{
 "cells": [
  {
   "cell_type": "markdown",
   "id": "077a41cc",
   "metadata": {},
   "source": [
    "# Selecionado apenas as linhas com o valor Strand positivo (+)\n",
    "\n",
    "Aqui nos queremos selecionar de cada arquivo .gff3 as linhas em que o valor da coluna Strand seja '+'. Selecionadas essas linhas, queremos recuperar os cromossomos Chr (seqid = indica a qual cromossomo o elemento transponível pertence) e os valores da coluna Start (posição inicial do elemento dentro desse cromossomo) e End (posição final). No fim, queremos apenas as linhas com Strand positivo e seus valores em 'seqid', 'start' e 'end'."
   ]
  },
  {
   "cell_type": "code",
   "execution_count": 10,
   "id": "fbb59a80",
   "metadata": {},
   "outputs": [
    {
     "name": "stdout",
     "output_type": "stream",
     "text": [
      "  seqid  source                               type      start        end  \\\n",
      "0     3  APTEdb  Class II subclass 1/TIR/MuLE-MuDR  189779027  189779256   \n",
      "1     8  APTEdb  Class II subclass 1/TIR/MuLE-MuDR   67477834   67477956   \n",
      "2     1  APTEdb  Class II subclass 1/TIR/MuLE-MuDR   73838768   73839001   \n",
      "3     4  APTEdb  Class II subclass 1/TIR/MuLE-MuDR  201149345  201149414   \n",
      "4     4  APTEdb  Class II subclass 1/TIR/MuLE-MuDR    3250281    3250511   \n",
      "\n",
      "  score strand phase                                         attributes  \n",
      "0     .      -     .  TE-Score=0.285;Software=RepeatModeler;Length=2...  \n",
      "1     .      +     .  TE-Score=0.142;Software=RepeatModeler;Length=1...  \n",
      "2     .      +     .  TE-Score=0.285;Software=RepeatModeler;Length=2...  \n",
      "3     .      +     .  TE-Score=0.142;Software=RepeatModeler;Length=6...  \n",
      "4     .      +     .  TE-Score=0.285;Software=RepeatModeler;Length=2...  \n"
     ]
    }
   ],
   "source": [
    "import pandas as pd\n",
    "\n",
    "# 1. Defina o caminho relativo para o arquivo\n",
    "# (.. para subir da pasta 'notebooks' e /data/ para descer em 'data')\n",
    "file_path = '../data/arquivos_TEAnnotation_brutos/TEAnnotationFinal_TIR.gff3'\n",
    "\n",
    "# 2. Definir os nomes das colunas padrão do formato GFF3\n",
    "column_names = ['seqid', 'source', 'type', 'start', 'end', 'score', 'strand', 'phase', 'attributes']\n",
    "\n",
    "# 3. Ler o arquivo\n",
    "# sep='\\t' porque arquivos GFF3 são separados por Tab\n",
    "# comment='#' para ignorar linhas de cabeçalho/metadados\n",
    "# header=None porque o arquivo não tem uma linha de cabeçalho com nomes\n",
    "df = pd.read_csv(\n",
    "    file_path,\n",
    "    sep='\\t',\n",
    "    comment='#',\n",
    "    header=None,\n",
    "    names=column_names\n",
    ")\n",
    "\n",
    "# 4. Mostrar as primeiras linhas para verificar\n",
    "print(df.head())"
   ]
  }
 ],
 "metadata": {
  "kernelspec": {
   "display_name": "venv (3.12.3)",
   "language": "python",
   "name": "python3"
  },
  "language_info": {
   "codemirror_mode": {
    "name": "ipython",
    "version": 3
   },
   "file_extension": ".py",
   "mimetype": "text/x-python",
   "name": "python",
   "nbconvert_exporter": "python",
   "pygments_lexer": "ipython3",
   "version": "3.12.3"
  }
 },
 "nbformat": 4,
 "nbformat_minor": 5
}
