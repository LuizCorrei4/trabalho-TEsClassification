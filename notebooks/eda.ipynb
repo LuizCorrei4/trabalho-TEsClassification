{
 "cells": [
  {
   "cell_type": "markdown",
   "id": "077a41cc",
   "metadata": {},
   "source": [
    "# Selecionado apenas as linhas com o valor Strand positivo (+)\n",
    "\n",
    "Aqui nos queremos selecionar de cada arquivo .gff3 as linhas em que o valor da coluna Strand seja '+'. Selecionadas essas linhas, queremos recuperar os cromossomos Chr (seqid = indica a qual cromossomo o elemento transponível pertence) e os valores da coluna Start (posição inicial do elemento dentro desse cromossomo) e End (posição final). No fim, queremos apenas as linhas com Strand positivo e seus valores em 'seqid', 'start' e 'end'."
   ]
  },
  {
   "cell_type": "code",
   "execution_count": 36,
   "id": "fbb59a80",
   "metadata": {},
   "outputs": [
    {
     "name": "stdout",
     "output_type": "stream",
     "text": [
      "  seqid  source                               type      start        end  \\\n",
      "0     3  APTEdb  Class II subclass 1/TIR/MuLE-MuDR  189779027  189779256   \n",
      "1     8  APTEdb  Class II subclass 1/TIR/MuLE-MuDR   67477834   67477956   \n",
      "2     1  APTEdb  Class II subclass 1/TIR/MuLE-MuDR   73838768   73839001   \n",
      "3     4  APTEdb  Class II subclass 1/TIR/MuLE-MuDR  201149345  201149414   \n",
      "4     4  APTEdb  Class II subclass 1/TIR/MuLE-MuDR    3250281    3250511   \n",
      "\n",
      "  score strand phase                                         attributes  \n",
      "0     .      -     .  TE-Score=0.285;Software=RepeatModeler;Length=2...  \n",
      "1     .      +     .  TE-Score=0.142;Software=RepeatModeler;Length=1...  \n",
      "2     .      +     .  TE-Score=0.285;Software=RepeatModeler;Length=2...  \n",
      "3     .      +     .  TE-Score=0.142;Software=RepeatModeler;Length=6...  \n",
      "4     .      +     .  TE-Score=0.285;Software=RepeatModeler;Length=2...  \n"
     ]
    }
   ],
   "source": [
    "import pandas as pd\n",
    "\n",
    "# 1. Defina o caminho relativo para o arquivo\n",
    "# (.. para subir da pasta 'notebooks' e /data/ para descer em 'data')\n",
    "file_path = '../data/arquivos_TEAnnotation_brutos/TEAnnotationFinal_TIR.gff3'\n",
    "\n",
    "# 2. Definir os nomes das colunas padrão do formato GFF3\n",
    "column_names = ['seqid', 'source', 'type', 'start', 'end', 'score', 'strand', 'phase', 'attributes']\n",
    "\n",
    "# 3. Ler o arquivo\n",
    "# sep='\\t' porque arquivos GFF3 são separados por Tab\n",
    "# comment='#' para ignorar linhas de cabeçalho/metadados\n",
    "# header=None porque o arquivo não tem uma linha de cabeçalho com nomes\n",
    "df = pd.read_csv(\n",
    "    file_path,\n",
    "    sep='\\t',\n",
    "    comment='#',\n",
    "    header=None,\n",
    "    names=column_names\n",
    ")\n",
    "\n",
    "# 4. Mostrar as primeiras linhas para verificar\n",
    "print(df.head())"
   ]
  },
  {
   "cell_type": "markdown",
   "id": "9eb9a068",
   "metadata": {},
   "source": [
    "# Imports e Definições de Caminhos"
   ]
  },
  {
   "cell_type": "code",
   "execution_count": 37,
   "id": "037e21ff",
   "metadata": {},
   "outputs": [],
   "source": [
    "import glob\n",
    "import os\n",
    "from Bio import Entrez\n",
    "from Bio import SeqIO\n",
    "\n",
    "# --- Configuração ---\n",
    "\n",
    "# 1. Caminhos dos seus arquivos filtrados (onde você salvou os .tsv)\n",
    "input_dir = '../data/arquivos_TEAnnotation_filtrados/'\n",
    "\n",
    "# 2. Pasta para onde baixaremos os genomas FASTA\n",
    "fasta_dir = '../data/fasta_genomas/'\n",
    "os.makedirs(fasta_dir, exist_ok=True)\n",
    "\n",
    "# 3. Nome do arquivo de saída final\n",
    "output_dataset = '../data/TE_dataset_final.csv'\n",
    "\n",
    "# 4. Email para o NCBI (OBRIGATÓRIO para usar a API)\n",
    "# Substitua pelo seu e-mail.\n",
    "Entrez.email = \"luizgcorreiadosantos@usp.br\""
   ]
  },
  {
   "cell_type": "markdown",
   "id": "1d22b4e2",
   "metadata": {},
   "source": [
    "# Consolidar Coordenadas (Pandas)"
   ]
  },
  {
   "cell_type": "code",
   "execution_count": 38,
   "id": "2bd68942",
   "metadata": {},
   "outputs": [
    {
     "name": "stdout",
     "output_type": "stream",
     "text": [
      "Iniciando Parte 1: Consolidando arquivos TSV...\n",
      "Total de 341712 coordenadas de TEs carregadas.\n",
      "Classes encontradas:\n",
      "Classe\n",
      "LTR         191815\n",
      "TIR          83849\n",
      "MITE         26350\n",
      "Helitron     24769\n",
      "LINE         11174\n",
      "SINE          3755\n",
      "Name: count, dtype: int64\n",
      "  seqid      start        end    Classe\n",
      "0     7   82856122   82857584  Helitron\n",
      "1     1  239302471  239302834  Helitron\n",
      "2     8    2261318    2261604  Helitron\n",
      "3     5  124665404  124665608  Helitron\n",
      "4     9   77998293   78002783  Helitron\n"
     ]
    }
   ],
   "source": [
    "print(\"Iniciando Parte 1: Consolidando arquivos TSV...\")\n",
    "\n",
    "all_data = []\n",
    "\n",
    "# Encontrar todos os seus arquivos .tsv filtrados\n",
    "tsv_files = glob.glob(os.path.join(input_dir, '*.tsv'))\n",
    "\n",
    "if not tsv_files:\n",
    "    print(f\"ERRO: Nenhum arquivo .tsv encontrado em '{input_dir}'\")\n",
    "    print(\"Por favor, execute o script de filtragem primeiro.\")\n",
    "else:\n",
    "    for file_path in tsv_files:\n",
    "        # 1. Ler o arquivo de coordenadas\n",
    "        df = pd.read_csv(file_path, sep='\\t')\n",
    "        \n",
    "        # 2. Extrair o nome da Classe do nome do arquivo\n",
    "        # Ex: 'TEAnnotationFinal_TIR_filtrado.tsv' -> 'TIR'\n",
    "        filename = os.path.basename(file_path)\n",
    "        classe = filename.replace('TEAnnotationFinal_', '').replace('_filtrado.tsv', '')\n",
    "        \n",
    "        # 3. Adicionar a coluna \"Classe\"\n",
    "        df['Classe'] = classe\n",
    "        \n",
    "        all_data.append(df)\n",
    "\n",
    "    # 4. Combinar tudo em um DataFrame\n",
    "    coords_df = pd.concat(all_data, ignore_index=True)\n",
    "\n",
    "    print(f\"Total de {len(coords_df)} coordenadas de TEs carregadas.\")\n",
    "    print(\"Classes encontradas:\")\n",
    "    print(coords_df['Classe'].value_counts())\n",
    "    print(coords_df.head())"
   ]
  },
  {
   "cell_type": "markdown",
   "id": "900eab77",
   "metadata": {},
   "source": [
    "# Baixar Genomas (BioPython.Entrez)"
   ]
  },
  {
   "cell_type": "code",
   "execution_count": 39,
   "id": "3a568c72",
   "metadata": {},
   "outputs": [
    {
     "name": "stdout",
     "output_type": "stream",
     "text": [
      "\n",
      "Iniciando Parte 2: Baixando genomas do NCBI...\n",
      "Já existe: Cromossomo 1 (Arquivo: ../data/fasta_genomas/chr_1.fasta)\n",
      "Já existe: Cromossomo 2 (Arquivo: ../data/fasta_genomas/chr_2.fasta)\n",
      "Já existe: Cromossomo 3 (Arquivo: ../data/fasta_genomas/chr_3.fasta)\n",
      "Já existe: Cromossomo 4 (Arquivo: ../data/fasta_genomas/chr_4.fasta)\n",
      "Já existe: Cromossomo 5 (Arquivo: ../data/fasta_genomas/chr_5.fasta)\n",
      "Já existe: Cromossomo 6 (Arquivo: ../data/fasta_genomas/chr_6.fasta)\n",
      "Já existe: Cromossomo 7 (Arquivo: ../data/fasta_genomas/chr_7.fasta)\n",
      "Já existe: Cromossomo 8 (Arquivo: ../data/fasta_genomas/chr_8.fasta)\n",
      "Já existe: Cromossomo 9 (Arquivo: ../data/fasta_genomas/chr_9.fasta)\n",
      "Já existe: Cromossomo 10 (Arquivo: ../data/fasta_genomas/chr_10.fasta)\n",
      "Já existe: Cromossomo MT (Arquivo: ../data/fasta_genomas/chr_MT.fasta)\n",
      "Baixando: Cromossomo Pltd (ID: X86563.2)...\n",
      "-> Salvo em: ../data/fasta_genomas/chr_Pltd.fasta\n",
      "Download dos genomas concluído.\n"
     ]
    }
   ],
   "source": [
    "print(\"\\nIniciando Parte 2: Baixando genomas do NCBI...\")\n",
    "\n",
    "# Mapeamento do Cromossomo ('seqid') para o ID de Acesso do GenBank\n",
    "# Baseado na tabela do PDF  (corrigindo pequenos erros de OCR)\n",
    "chr_accessions = {\n",
    "    '1': 'LR618874.1',\n",
    "    '2': 'LR618875.1',\n",
    "    '3': 'LR618876.1',\n",
    "    '4': 'LR618877.1',\n",
    "    '5': 'LR618878.1',\n",
    "    '6': 'LR618879.1',\n",
    "    '7': 'LR618880.1',\n",
    "    '8': 'LR618881.1',\n",
    "    '9': 'LR618882.1',\n",
    "    '10': 'LR618883.1',\n",
    "    'MT': 'AY506529.1',\n",
    "    'Pltd': 'X86563.2'\n",
    "}\n",
    "\n",
    "for chr_name, acc_id in chr_accessions.items():\n",
    "    fasta_path = os.path.join(fasta_dir, f'chr_{chr_name}.fasta')\n",
    "    \n",
    "    # 1. Verifica se o arquivo JÁ FOI BAIXADO para não baixar de novo\n",
    "    if not os.path.exists(fasta_path):\n",
    "        print(f\"Baixando: Cromossomo {chr_name} (ID: {acc_id})...\")\n",
    "        try:\n",
    "            # 2. Busca (fetch) o registro no banco \"nucleotide\"\n",
    "            handle = Entrez.efetch(db=\"nucleotide\", id=acc_id, rettype=\"fasta\", retmode=\"text\")\n",
    "            fasta_content = handle.read()\n",
    "            handle.close()\n",
    "            \n",
    "            # 3. Salva o conteúdo em um arquivo .fasta\n",
    "            with open(fasta_path, \"w\") as f:\n",
    "                f.write(fasta_content)\n",
    "            print(f\"-> Salvo em: {fasta_path}\")\n",
    "            \n",
    "        except Exception as e:\n",
    "            print(f\"ERRO ao baixar {acc_id}: {e}\")\n",
    "    else:\n",
    "        print(f\"Já existe: Cromossomo {chr_name} (Arquivo: {fasta_path})\")\n",
    "\n",
    "print(\"Download dos genomas concluído.\")"
   ]
  },
  {
   "cell_type": "markdown",
   "id": "996d49c5",
   "metadata": {},
   "source": [
    "# Parte 3 - Carregar Genomas (BioPython.SeqIO)"
   ]
  },
  {
   "cell_type": "code",
   "execution_count": 40,
   "id": "12f5dc44",
   "metadata": {},
   "outputs": [
    {
     "name": "stdout",
     "output_type": "stream",
     "text": [
      "\n",
      "Iniciando Parte 3: Carregando genomas (FASTA) para a memória...\n",
      "Carregado: chr 1 (308452471 bp)\n",
      "Carregado: chr 2 (243675191 bp)\n",
      "Carregado: chr 3 (238017767 bp)\n",
      "Carregado: chr 4 (250330460 bp)\n",
      "Carregado: chr 5 (226353449 bp)\n",
      "Carregado: chr 6 (181357234 bp)\n",
      "Carregado: chr 7 (185808916 bp)\n",
      "Carregado: chr 8 (182411202 bp)\n",
      "Carregado: chr 9 (163004744 bp)\n",
      "Carregado: chr 10 (152435371 bp)\n",
      "Carregado: chr MT (569630 bp)\n",
      "Carregado: chr Pltd (140384 bp)\n",
      "Genomas carregados.\n"
     ]
    }
   ],
   "source": [
    "print(\"\\nIniciando Parte 3: Carregando genomas (FASTA) para a memória...\")\n",
    "\n",
    "genomes = {}\n",
    "\n",
    "for chr_name in chr_accessions.keys():\n",
    "    fasta_path = os.path.join(fasta_dir, f'chr_{chr_name}.fasta')\n",
    "    \n",
    "    try:\n",
    "        # Usamos SeqIO.read() pois cada arquivo tem APENAS UMA sequência\n",
    "        record = SeqIO.read(fasta_path, \"fasta\")\n",
    "        \n",
    "        # Armazenamos o objeto Seq (a sequência) no dicionário\n",
    "        # A chave é o nome do cromossomo (ex: '1', 'MT')\n",
    "        genomes[chr_name] = record.seq\n",
    "        \n",
    "        print(f\"Carregado: chr {chr_name} ({len(record.seq)} bp)\")\n",
    "    except Exception as e:\n",
    "        print(f\"ERRO ao ler o arquivo {fasta_path}: {e}\")\n",
    "\n",
    "print(\"Genomas carregados.\")"
   ]
  },
  {
   "cell_type": "markdown",
   "id": "a00b6d22",
   "metadata": {},
   "source": [
    "# Extrair Sequências (Pandas + Bio.Seq)"
   ]
  },
  {
   "cell_type": "code",
   "execution_count": 41,
   "id": "709704de",
   "metadata": {},
   "outputs": [
    {
     "name": "stdout",
     "output_type": "stream",
     "text": [
      "\n",
      "Iniciando Parte 4: Extraindo sequências de TE...\n",
      "Extração de sequências concluída.\n",
      "  seqid      start        end    Classe  \\\n",
      "0     7   82856122   82857584  Helitron   \n",
      "1     1  239302471  239302834  Helitron   \n",
      "2     8    2261318    2261604  Helitron   \n",
      "3     5  124665404  124665608  Helitron   \n",
      "4     9   77998293   78002783  Helitron   \n",
      "\n",
      "                                     Sequência de TE  \n",
      "0  GAGCTTCGTCACCAGCTTTGCTCCGACCACCCTTTGTCCATACTAA...  \n",
      "1  GTCAGGGTTGCTTCTTGGCGAAGACAGGGCCTCGGGCGAGCCAGAA...  \n",
      "2  ACGCCCAAGCAGACGGTCACCATCAGCGAAGACCTCACTTCGCATG...  \n",
      "3  TATGCCAAGTCGTGTCAAACGACTTAGGGTAGGGGTCAACTTTCTC...  \n",
      "4  GTTAGGTTATTTATATACTAGTTTATGTTGATGATATAATCATCAC...  \n"
     ]
    }
   ],
   "source": [
    "print(\"\\nIniciando Parte 4: Extraindo sequências de TE...\")\n",
    "\n",
    "def extrair_sequencia(linha):\n",
    "    \"\"\"\n",
    "    Pega uma linha do DataFrame e extrai a sequência de DNA\n",
    "    do dicionário de genomas.\n",
    "    \"\"\"\n",
    "    try:\n",
    "        # 1. Pega os dados da linha\n",
    "        chr_name = str(linha['seqid'])\n",
    "        start = linha['start']\n",
    "        end = linha['end']\n",
    "        \n",
    "        # 2. Busca a sequência completa do cromossomo\n",
    "        cromossomo_inteiro = genomes[chr_name]\n",
    "        \n",
    "        # 3. Fatiar (slice) a sequência\n",
    "        # ATENÇÃO: Coordenadas GFF/FASTA são 1-based (começam em 1).\n",
    "        # Slices de Python são 0-based (começam em 0).\n",
    "        # Por isso, usamos [start-1:end].\n",
    "        te_seq = cromossomo_inteiro[start-1:end]\n",
    "        \n",
    "        # 4. Retorna a sequência como texto\n",
    "        return str(te_seq)\n",
    "        \n",
    "    except KeyError:\n",
    "        # Caso o seqid (ex: 'Pt') não esteja no nosso mapa de downloads\n",
    "        return f\"ERRO: Cromossomo '{chr_name}' não encontrado nos arquivos FASTA.\"\n",
    "    except Exception as e:\n",
    "        return f\"ERRO: {e}\"\n",
    "\n",
    "# Aplica a função para cada linha do DataFrame.\n",
    "# Isso pode demorar alguns minutos se o DataFrame for grande!\n",
    "coords_df['Sequência de TE'] = coords_df.apply(extrair_sequencia, axis=1)\n",
    "\n",
    "print(\"Extração de sequências concluída.\")\n",
    "print(coords_df.head())"
   ]
  },
  {
   "cell_type": "markdown",
   "id": "1043feca",
   "metadata": {},
   "source": [
    "# Salvar Dataset Final"
   ]
  },
  {
   "cell_type": "code",
   "execution_count": 42,
   "id": "842d20b3",
   "metadata": {},
   "outputs": [
    {
     "name": "stdout",
     "output_type": "stream",
     "text": [
      "\n",
      "Iniciando Parte 5: Gerando arquivo final...\n",
      "---\n",
      "TRABALHO CONCLUÍDO! (Etapa de montagem de dados)\n",
      "Dataset final salvo em: ../data/TE_dataset_final.csv\n",
      "  Cromossomo                                    Sequência de TE    Classe\n",
      "0          7  GAGCTTCGTCACCAGCTTTGCTCCGACCACCCTTTGTCCATACTAA...  Helitron\n",
      "1          1  GTCAGGGTTGCTTCTTGGCGAAGACAGGGCCTCGGGCGAGCCAGAA...  Helitron\n",
      "2          8  ACGCCCAAGCAGACGGTCACCATCAGCGAAGACCTCACTTCGCATG...  Helitron\n",
      "3          5  TATGCCAAGTCGTGTCAAACGACTTAGGGTAGGGGTCAACTTTCTC...  Helitron\n",
      "4          9  GTTAGGTTATTTATATACTAGTTTATGTTGATGATATAATCATCAC...  Helitron\n"
     ]
    }
   ],
   "source": [
    "print(\"\\nIniciando Parte 5: Gerando arquivo final...\")\n",
    "\n",
    "# 1. Renomear a coluna 'seqid' para 'Cromossomo'\n",
    "final_df = coords_df.rename(columns={'seqid': 'Cromossomo'})\n",
    "\n",
    "# 2. Selecionar apenas as colunas FINAIS pedidas no PDF \n",
    "colunas_finais = ['Cromossomo', 'Sequência de TE', 'Classe']\n",
    "final_df = final_df[colunas_finais]\n",
    "\n",
    "# 3. Salvar o arquivo final\n",
    "final_df.to_csv(output_dataset, index=False)\n",
    "\n",
    "print(\"---\")\n",
    "print(f\"TRABALHO CONCLUÍDO! (Etapa de montagem de dados)\")\n",
    "print(f\"Dataset final salvo em: {output_dataset}\")\n",
    "print(final_df.head())"
   ]
  },
  {
   "cell_type": "markdown",
   "id": "0ba423e3",
   "metadata": {},
   "source": [
    "# Verificação de Erros"
   ]
  },
  {
   "cell_type": "code",
   "execution_count": 43,
   "id": "c6cd7af3",
   "metadata": {},
   "outputs": [
    {
     "name": "stdout",
     "output_type": "stream",
     "text": [
      "--- Verificação de Erros ---\n",
      "🚨 Atenção! Foram encontradas 3378 linhas com erro.\n",
      "---\n",
      "Resumo dos tipos de erro:\n",
      "Sequência de TE\n",
      "ERRO: Cromossomo 'B73V4_ctg150' não encontrado nos arquivos FASTA.    228\n",
      "ERRO: Cromossomo 'B73V4_ctg182' não encontrado nos arquivos FASTA.    177\n",
      "ERRO: Cromossomo 'B73V4_ctg10' não encontrado nos arquivos FASTA.     138\n",
      "ERRO: Cromossomo 'B73V4_ctg31' não encontrado nos arquivos FASTA.     111\n",
      "ERRO: Cromossomo 'B73V4_ctg52' não encontrado nos arquivos FASTA.     106\n",
      "                                                                     ... \n",
      "ERRO: Cromossomo 'B73V4_ctg47' não encontrado nos arquivos FASTA.       1\n",
      "ERRO: Cromossomo 'B73V4_ctg246' não encontrado nos arquivos FASTA.      1\n",
      "ERRO: Cromossomo 'B73V4_ctg228' não encontrado nos arquivos FASTA.      1\n",
      "ERRO: Cromossomo 'B73V4_ctg172' não encontrado nos arquivos FASTA.      1\n",
      "ERRO: Cromossomo 'B73V4_ctg160' não encontrado nos arquivos FASTA.      1\n",
      "Name: count, Length: 241, dtype: int64\n",
      "---\n",
      "Para ver todas as 3378 linhas de erro, rode o seguinte comando em uma nova célula:\n",
      "print(erros_df.to_string())\n"
     ]
    }
   ],
   "source": [
    "print(\"--- Verificação de Erros ---\")\n",
    "\n",
    "# 1. Filtra o DataFrame para encontrar linhas onde 'Sequência de TE' começa com 'ERRO'\n",
    "erros_df = final_df[final_df['Sequência de TE'].str.startswith('ERRO')]\n",
    "\n",
    "# 2. Conta o número total de erros\n",
    "num_erros = len(erros_df)\n",
    "\n",
    "if num_erros == 0:\n",
    "    print(\"✅ Nenhuma linha com erro encontrada. Tudo certo!\")\n",
    "else:\n",
    "    print(f\"🚨 Atenção! Foram encontradas {num_erros} linhas com erro.\")\n",
    "    print(\"---\")\n",
    "    \n",
    "    # 3. Mostra um resumo dos tipos de erro e suas contagens\n",
    "    # Isso agrupa mensagens de erro idênticas (ex: 'Cromossomo X não encontrado')\n",
    "    print(\"Resumo dos tipos de erro:\")\n",
    "    resumo_erros = erros_df['Sequência de TE'].value_counts()\n",
    "    print(resumo_erros)\n",
    "    print(\"---\")\n",
    "    \n",
    "    # 4. Se houver poucos erros (ex: menos de 50), imprime o DataFrame de erros completo\n",
    "    if num_erros < 50:\n",
    "        print(\"DataFrame completo dos erros:\")\n",
    "        print(erros_df)\n",
    "    else:\n",
    "        print(f\"Para ver todas as {num_erros} linhas de erro, rode o seguinte comando em uma nova célula:\")\n",
    "        print(\"print(erros_df.to_string())\")"
   ]
  }
 ],
 "metadata": {
  "kernelspec": {
   "display_name": "venv (3.12.3)",
   "language": "python",
   "name": "python3"
  },
  "language_info": {
   "codemirror_mode": {
    "name": "ipython",
    "version": 3
   },
   "file_extension": ".py",
   "mimetype": "text/x-python",
   "name": "python",
   "nbconvert_exporter": "python",
   "pygments_lexer": "ipython3",
   "version": "3.12.3"
  }
 },
 "nbformat": 4,
 "nbformat_minor": 5
}
